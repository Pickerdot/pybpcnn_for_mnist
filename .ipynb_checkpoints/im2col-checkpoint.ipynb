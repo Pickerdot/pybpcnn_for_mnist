{
 "cells": [
  {
   "cell_type": "code",
   "execution_count": 2,
   "metadata": {},
   "outputs": [],
   "source": [
    "import numpy as np\n",
    "import function as fn"
   ]
  },
  {
   "cell_type": "code",
   "execution_count": 3,
   "metadata": {},
   "outputs": [],
   "source": [
    " a = np.array([[[30, 91, 11, 13, 52, 44, 98],\n",
    "   [99,  6, 35, 41, 97, 72, 79],\n",
    "   [ 5, 92, 15, 95, 72,  8, 10,],\n",
    "   [68,  5, 86, 25, 69, 46, 70,],\n",
    "   [95, 32, 98, 49, 51, 19, 46,],\n",
    "   [32, 15, 39, 44, 76, 58, 49,],\n",
    "   [43, 47, 95,  1,  1, 12, 21,]],[[30, 91, 11, 13, 52, 44, 98],\n",
    "   [99,  6, 35, 41, 97, 72, 79],\n",
    "   [ 5, 92, 15, 95, 72,  8, 10,],\n",
    "   [68,  5, 86, 25, 69, 46, 70,],\n",
    "   [95, 32, 98, 49, 51, 19, 46,],\n",
    "   [32, 15, 39, 44, 76, 58, 49,],\n",
    "   [43, 47, 95,  1,  1, 12, 21,]]])"
   ]
  },
  {
   "cell_type": "code",
   "execution_count": 4,
   "metadata": {},
   "outputs": [
    {
     "data": {
      "text/plain": [
       "(1, 7, 7)"
      ]
     },
     "execution_count": 4,
     "metadata": {},
     "output_type": "execute_result"
    }
   ],
   "source": [
    "a.shape"
   ]
  },
  {
   "cell_type": "code",
   "execution_count": 6,
   "metadata": {},
   "outputs": [],
   "source": [
    " b = np.array([[[[30, 91, 11, 13, 52, 44, 98],\n",
    "   [99,  6, 35, 41, 97, 72, 79],\n",
    "   [ 5, 92, 15, 95, 72,  8, 10,],\n",
    "   [68,  5, 86, 25, 69, 46, 70,],\n",
    "   [95, 32, 98, 49, 51, 19, 46,],\n",
    "   [32, 15, 39, 44, 76, 58, 49,],\n",
    "   [43, 47, 95,  1,  1, 12, 21,]]]])"
   ]
  },
  {
   "cell_type": "code",
   "execution_count": 7,
   "metadata": {},
   "outputs": [
    {
     "ename": "ValueError",
     "evalue": "not enough values to unpack (expected 3, got 2)",
     "output_type": "error",
     "traceback": [
      "\u001b[1;31m---------------------------------------------------------------------------\u001b[0m",
      "\u001b[1;31mValueError\u001b[0m                                Traceback (most recent call last)",
      "\u001b[1;32m<ipython-input-7-9a6bc3e34703>\u001b[0m in \u001b[0;36m<module>\u001b[1;34m()\u001b[0m\n\u001b[1;32m----> 1\u001b[1;33m \u001b[0mfn\u001b[0m\u001b[1;33m.\u001b[0m\u001b[0min2col\u001b[0m\u001b[1;33m(\u001b[0m\u001b[0ma\u001b[0m\u001b[1;33m,\u001b[0m\u001b[1;36m3\u001b[0m\u001b[1;33m,\u001b[0m\u001b[1;36m3\u001b[0m\u001b[1;33m)\u001b[0m\u001b[1;33m\u001b[0m\u001b[0m\n\u001b[0m",
      "\u001b[1;32m~\\scr\\github\\pybpcnn\\function.py\u001b[0m in \u001b[0;36min2col\u001b[1;34m(img, h_filter, w_filter, stride, pad)\u001b[0m\n\u001b[0;32m      6\u001b[0m \u001b[1;33m\u001b[0m\u001b[0m\n\u001b[0;32m      7\u001b[0m \u001b[1;32mdef\u001b[0m \u001b[0min2col\u001b[0m\u001b[1;33m(\u001b[0m\u001b[0mimg\u001b[0m\u001b[1;33m,\u001b[0m \u001b[0mh_filter\u001b[0m\u001b[1;33m,\u001b[0m \u001b[0mw_filter\u001b[0m\u001b[1;33m,\u001b[0m \u001b[0mstride\u001b[0m\u001b[1;33m=\u001b[0m\u001b[1;36m1\u001b[0m\u001b[1;33m,\u001b[0m \u001b[0mpad\u001b[0m\u001b[1;33m=\u001b[0m\u001b[1;36m0\u001b[0m\u001b[1;33m)\u001b[0m\u001b[1;33m:\u001b[0m\u001b[1;33m\u001b[0m\u001b[0m\n\u001b[1;32m----> 8\u001b[1;33m     \u001b[0mN\u001b[0m\u001b[1;33m,\u001b[0m \u001b[0mH\u001b[0m\u001b[1;33m,\u001b[0m \u001b[0mW\u001b[0m \u001b[1;33m=\u001b[0m \u001b[0mimg\u001b[0m\u001b[1;33m.\u001b[0m\u001b[0mshape\u001b[0m\u001b[1;33m\u001b[0m\u001b[0m\n\u001b[0m\u001b[0;32m      9\u001b[0m     \u001b[0mh_out\u001b[0m \u001b[1;33m=\u001b[0m \u001b[1;33m(\u001b[0m\u001b[0mH\u001b[0m \u001b[1;33m+\u001b[0m \u001b[1;36m2\u001b[0m\u001b[1;33m*\u001b[0m\u001b[0mpad\u001b[0m \u001b[1;33m-\u001b[0m \u001b[0mh_filter\u001b[0m\u001b[1;33m)\u001b[0m\u001b[1;33m//\u001b[0m\u001b[0mstride\u001b[0m \u001b[1;33m+\u001b[0m \u001b[1;36m1\u001b[0m\u001b[1;33m\u001b[0m\u001b[0m\n\u001b[0;32m     10\u001b[0m     \u001b[0mw_out\u001b[0m \u001b[1;33m=\u001b[0m \u001b[1;33m(\u001b[0m\u001b[0mH\u001b[0m \u001b[1;33m+\u001b[0m \u001b[1;36m2\u001b[0m\u001b[1;33m*\u001b[0m\u001b[0mpad\u001b[0m \u001b[1;33m-\u001b[0m \u001b[0mw_filter\u001b[0m\u001b[1;33m)\u001b[0m\u001b[1;33m//\u001b[0m\u001b[0mstride\u001b[0m \u001b[1;33m+\u001b[0m \u001b[1;36m1\u001b[0m\u001b[1;33m\u001b[0m\u001b[0m\n",
      "\u001b[1;31mValueError\u001b[0m: not enough values to unpack (expected 3, got 2)"
     ]
    }
   ],
   "source": [
    "fn.in2col(a,3,3)"
   ]
  },
  {
   "cell_type": "code",
   "execution_count": 161,
   "metadata": {},
   "outputs": [
    {
     "data": {
      "text/plain": [
       "(1, 7, 7)"
      ]
     },
     "execution_count": 161,
     "metadata": {},
     "output_type": "execute_result"
    }
   ],
   "source": [
    "a.shape"
   ]
  },
  {
   "cell_type": "code",
   "execution_count": 162,
   "metadata": {},
   "outputs": [],
   "source": [
    "input_data = a\n",
    "h_filter= 3\n",
    "w_filter = 3\n",
    "stride = 1\n",
    "pad = 0\n",
    "h_out = (H + 2*pad - h_filter)//stride + 1\n",
    "w_out = (H + 2*pad - w_filter)//stride + 1"
   ]
  },
  {
   "cell_type": "code",
   "execution_count": 163,
   "metadata": {},
   "outputs": [],
   "source": [
    "N, H, W = input_data.shape"
   ]
  },
  {
   "cell_type": "code",
   "execution_count": 164,
   "metadata": {},
   "outputs": [],
   "source": [
    "img = np.pad(input_data,[(0,0), (pad,pad),(pad, pad)], 'constant')"
   ]
  },
  {
   "cell_type": "code",
   "execution_count": 165,
   "metadata": {
    "scrolled": true
   },
   "outputs": [
    {
     "data": {
      "text/plain": [
       "(1, 7, 7)"
      ]
     },
     "execution_count": 165,
     "metadata": {},
     "output_type": "execute_result"
    }
   ],
   "source": [
    "img.shape"
   ]
  },
  {
   "cell_type": "code",
   "execution_count": 166,
   "metadata": {},
   "outputs": [],
   "source": [
    "col = np.zeros((N, C, h_filter, w_filter, out_h, out_w))"
   ]
  },
  {
   "cell_type": "code",
   "execution_count": 167,
   "metadata": {},
   "outputs": [
    {
     "data": {
      "text/plain": [
       "(1, 1, 3, 3, 4, 4)"
      ]
     },
     "execution_count": 167,
     "metadata": {},
     "output_type": "execute_result"
    }
   ],
   "source": [
    "col.shape"
   ]
  },
  {
   "cell_type": "code",
   "execution_count": 168,
   "metadata": {},
   "outputs": [],
   "source": [
    "def im2col_slow(input_data, filter_h, filter_w, stride=1, pad=0):\n",
    "    N, C, H, W = input_data.shape\n",
    "    out_h = (H + 2*pad - filter_h)//stride + 1\n",
    "    out_w = (W + 2*pad - filter_w)//stride + 1\n",
    "\n",
    "    img = np.pad(input_data, [(0,0), (0,0), (pad, pad), (pad, pad)], 'constant')\n",
    "    col = np.zeros((N, C, filter_h, filter_w, out_h, out_w))\n",
    "\n",
    "    for move_y in range(out_h):\n",
    "        for move_x in range(out_w):\n",
    "            for y in range(filter_h):\n",
    "                for x in range(filter_w):\n",
    "                    col[:, :, y, x, move_y, move_x] = \\\n",
    "                        img[:, :, y + stride * move_y, x + stride * move_x]\n",
    "\n",
    "    col = col.transpose(0, 4, 5, 1, 2, 3).reshape(N*out_h*out_w, -1)\n",
    "    return col"
   ]
  },
  {
   "cell_type": "code",
   "execution_count": 169,
   "metadata": {},
   "outputs": [
    {
     "data": {
      "text/plain": [
       "5"
      ]
     },
     "execution_count": 169,
     "metadata": {},
     "output_type": "execute_result"
    }
   ],
   "source": [
    "h_out"
   ]
  },
  {
   "cell_type": "code",
   "execution_count": 170,
   "metadata": {},
   "outputs": [
    {
     "data": {
      "text/plain": [
       "5"
      ]
     },
     "execution_count": 170,
     "metadata": {},
     "output_type": "execute_result"
    }
   ],
   "source": [
    "w_out"
   ]
  },
  {
   "cell_type": "code",
   "execution_count": 171,
   "metadata": {},
   "outputs": [],
   "source": [
    "input_data = img"
   ]
  },
  {
   "cell_type": "code",
   "execution_count": 172,
   "metadata": {},
   "outputs": [
    {
     "data": {
      "text/plain": [
       "array([[[30, 91, 11, 13, 52, 44, 98],\n",
       "        [99,  6, 35, 41, 97, 72, 79],\n",
       "        [ 5, 92, 15, 95, 72,  8, 10],\n",
       "        [68,  5, 86, 25, 69, 46, 70],\n",
       "        [95, 32, 98, 49, 51, 19, 46],\n",
       "        [32, 15, 39, 44, 76, 58, 49],\n",
       "        [43, 47, 95,  1,  1, 12, 21]]])"
      ]
     },
     "execution_count": 172,
     "metadata": {},
     "output_type": "execute_result"
    }
   ],
   "source": [
    "input_data"
   ]
  },
  {
   "cell_type": "code",
   "execution_count": 173,
   "metadata": {},
   "outputs": [],
   "source": [
    "ancol = np.zeros((N, h_out*w_out,h_filter * w_filter))\n",
    "\n",
    "for n in range(N):\n",
    "    for y_origin in range(h_out):\n",
    "        for x_origin in range(w_out):\n",
    "            for y in range(h_filter):\n",
    "                for x in range(w_filter):\n",
    "                    ancol[n,h_out*y_origin + x_origin, y * h_filter + x] = input_data[n,move_y * stride + y, move_x * stride + x]"
   ]
  },
  {
   "cell_type": "code",
   "execution_count": null,
   "metadata": {},
   "outputs": [],
   "source": []
  },
  {
   "cell_type": "code",
   "execution_count": 175,
   "metadata": {},
   "outputs": [
    {
     "data": {
      "text/plain": [
       "(1, 25, 9)"
      ]
     },
     "execution_count": 175,
     "metadata": {},
     "output_type": "execute_result"
    }
   ],
   "source": [
    "ancol.shape"
   ]
  },
  {
   "cell_type": "code",
   "execution_count": 147,
   "metadata": {},
   "outputs": [
    {
     "data": {
      "text/plain": [
       "array([[30., 91., 11., 99.,  6., 35.,  5., 92., 15.],\n",
       "       [91., 11., 13.,  6., 35., 41., 92., 15., 95.],\n",
       "       [11., 13., 52., 35., 41., 97., 15., 95., 72.],\n",
       "       [13., 52., 44., 41., 97., 72., 95., 72.,  8.],\n",
       "       [52., 44., 98., 97., 72., 79., 72.,  8., 10.],\n",
       "       [99.,  6., 35.,  5., 92., 15., 68.,  5., 86.],\n",
       "       [ 6., 35., 41., 92., 15., 95.,  5., 86., 25.],\n",
       "       [35., 41., 97., 15., 95., 72., 86., 25., 69.],\n",
       "       [41., 97., 72., 95., 72.,  8., 25., 69., 46.],\n",
       "       [97., 72., 79., 72.,  8., 10., 69., 46., 70.],\n",
       "       [ 5., 92., 15., 68.,  5., 86., 95., 32., 98.],\n",
       "       [92., 15., 95.,  5., 86., 25., 32., 98., 49.],\n",
       "       [15., 95., 72., 86., 25., 69., 98., 49., 51.],\n",
       "       [95., 72.,  8., 25., 69., 46., 49., 51., 19.],\n",
       "       [72.,  8., 10., 69., 46., 70., 51., 19., 46.],\n",
       "       [68.,  5., 86., 95., 32., 98., 32., 15., 39.],\n",
       "       [ 5., 86., 25., 32., 98., 49., 15., 39., 44.],\n",
       "       [86., 25., 69., 98., 49., 51., 39., 44., 76.],\n",
       "       [25., 69., 46., 49., 51., 19., 44., 76., 58.],\n",
       "       [69., 46., 70., 51., 19., 46., 76., 58., 49.],\n",
       "       [95., 32., 98., 32., 15., 39., 43., 47., 95.],\n",
       "       [32., 98., 49., 15., 39., 44., 47., 95.,  1.],\n",
       "       [98., 49., 51., 39., 44., 76., 95.,  1.,  1.],\n",
       "       [49., 51., 19., 44., 76., 58.,  1.,  1., 12.],\n",
       "       [51., 19., 46., 76., 58., 49.,  1., 12., 21.]])"
      ]
     },
     "execution_count": 147,
     "metadata": {},
     "output_type": "execute_result"
    }
   ],
   "source": [
    " im2col_slow(b, 3, 3, 1, 0)"
   ]
  },
  {
   "cell_type": "code",
   "execution_count": 63,
   "metadata": {},
   "outputs": [],
   "source": [
    "for y in range(w_filter):\n",
    "    y_max = y + stride*h_out\n",
    "    for x in range(w_filter):\n",
    "        x_max = x + stride*w_out\n",
    "        col[:,:,y:y_max:stride,x:x_max:stride,:,:] = img[:, :, y:y_max:stride, x:x_max:stride]"
   ]
  },
  {
   "cell_type": "code",
   "execution_count": 64,
   "metadata": {},
   "outputs": [
    {
     "data": {
      "text/plain": [
       "array([[[[[[ 0.,  0.,  0.,  0.],\n",
       "           [ 0.,  6., 41., 72.],\n",
       "           [ 0.,  5., 25., 46.],\n",
       "           [ 0., 15., 44., 58.]],\n",
       "\n",
       "          [[ 0.,  0.,  0.,  0.],\n",
       "           [99., 35., 97., 79.],\n",
       "           [68., 86., 69., 70.],\n",
       "           [32., 39., 76., 49.]],\n",
       "\n",
       "          [[ 0.,  0.,  0.,  0.],\n",
       "           [ 6., 41., 72.,  0.],\n",
       "           [ 5., 25., 46.,  0.],\n",
       "           [15., 44., 58.,  0.]]],\n",
       "\n",
       "\n",
       "         [[[ 0., 91., 13., 44.],\n",
       "           [ 0., 92., 95.,  8.],\n",
       "           [ 0., 32., 49., 19.],\n",
       "           [ 0., 47.,  1., 12.]],\n",
       "\n",
       "          [[30., 11., 52., 98.],\n",
       "           [ 5., 15., 72., 10.],\n",
       "           [95., 98., 51., 46.],\n",
       "           [43., 95.,  1., 21.]],\n",
       "\n",
       "          [[91., 13., 44.,  0.],\n",
       "           [92., 95.,  8.,  0.],\n",
       "           [32., 49., 19.,  0.],\n",
       "           [47.,  1., 12.,  0.]]],\n",
       "\n",
       "\n",
       "         [[[ 0.,  6., 41., 72.],\n",
       "           [ 0.,  5., 25., 46.],\n",
       "           [ 0., 15., 44., 58.],\n",
       "           [ 0.,  0.,  0.,  0.]],\n",
       "\n",
       "          [[99., 35., 97., 79.],\n",
       "           [68., 86., 69., 70.],\n",
       "           [32., 39., 76., 49.],\n",
       "           [ 0.,  0.,  0.,  0.]],\n",
       "\n",
       "          [[ 6., 41., 72.,  0.],\n",
       "           [ 5., 25., 46.,  0.],\n",
       "           [15., 44., 58.,  0.],\n",
       "           [ 0.,  0.,  0.,  0.]]]]]])"
      ]
     },
     "execution_count": 64,
     "metadata": {},
     "output_type": "execute_result"
    }
   ],
   "source": [
    "col"
   ]
  },
  {
   "cell_type": "code",
   "execution_count": 72,
   "metadata": {},
   "outputs": [
    {
     "data": {
      "text/plain": [
       "array([[[ 0.,  0.,  0.,  0.],\n",
       "        [ 0.,  6., 41., 72.],\n",
       "        [ 0.,  5., 25., 46.],\n",
       "        [ 0., 15., 44., 58.]],\n",
       "\n",
       "       [[ 0.,  0.,  0.,  0.],\n",
       "        [99., 35., 97., 79.],\n",
       "        [68., 86., 69., 70.],\n",
       "        [32., 39., 76., 49.]],\n",
       "\n",
       "       [[ 0.,  0.,  0.,  0.],\n",
       "        [ 6., 41., 72.,  0.],\n",
       "        [ 5., 25., 46.,  0.],\n",
       "        [15., 44., 58.,  0.]]])"
      ]
     },
     "execution_count": 72,
     "metadata": {},
     "output_type": "execute_result"
    }
   ],
   "source": [
    "col.transpose(0, 4, 5, 1, 2, 3)"
   ]
  },
  {
   "cell_type": "code",
   "execution_count": null,
   "metadata": {},
   "outputs": [],
   "source": []
  }
 ],
 "metadata": {
  "kernelspec": {
   "display_name": "Python 3",
   "language": "python",
   "name": "python3"
  },
  "language_info": {
   "codemirror_mode": {
    "name": "ipython",
    "version": 3
   },
   "file_extension": ".py",
   "mimetype": "text/x-python",
   "name": "python",
   "nbconvert_exporter": "python",
   "pygments_lexer": "ipython3",
   "version": "3.7.0"
  }
 },
 "nbformat": 4,
 "nbformat_minor": 2
}
