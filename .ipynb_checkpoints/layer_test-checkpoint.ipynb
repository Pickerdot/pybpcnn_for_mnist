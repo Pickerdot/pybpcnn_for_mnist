{
 "cells": [
  {
   "cell_type": "code",
   "execution_count": 140,
   "metadata": {},
   "outputs": [],
   "source": [
    "import function as fn\n",
    "import layer as ly\n",
    "import numpy as np\n",
    "import matplotlib.pyplot as plt"
   ]
  },
  {
   "cell_type": "code",
   "execution_count": 10,
   "metadata": {},
   "outputs": [],
   "source": [
    "optimizer = fn.SGD(lr)"
   ]
  },
  {
   "cell_type": "code",
   "execution_count": 11,
   "metadata": {},
   "outputs": [],
   "source": [
    "class Loss:\n",
    "    def __init__(self):\n",
    "        self.Loss = None\n",
    "        self.dout = None\n",
    "    def forward(self, out, t):\n",
    "        self.Loss = 1/2 * np.sum((out - t)**2)\n",
    "        self.dout = out - t\n",
    "        return self.Loss\n",
    "    def backward(self):\n",
    "        return self.dout"
   ]
  },
  {
   "cell_type": "code",
   "execution_count": 130,
   "metadata": {},
   "outputs": [],
   "source": [
    "class BPneuron:\n",
    "    def __init__(self, W, b, lr):\n",
    "        #入力側からの重みと自ニューロンへのバイアスの格納\n",
    "        self.W = W\n",
    "        self.b = b\n",
    "        #W、bに対する勾配の入れ物\n",
    "        self.W_grad = None\n",
    "        self.b_grad = None\n",
    "        #活性値と出力を格納\n",
    "        self.y = None\n",
    "        self.z = None\n",
    "        #入力の格納\n",
    "        self.x = None\n",
    "        # 学習率の格納\n",
    "        self.lr = lr\n",
    "        self.optimizer = fn.SGD(lr)\n",
    "\n",
    "    def forward(self, x):\n",
    "        #x格納\n",
    "        self.x = x\n",
    "        # y：活性値\n",
    "        self.y = np.dot(x, self.W) + self.b\n",
    "        # Z：ニューロンの出力\n",
    "        self.z = fn.sigmoid(self.y)\n",
    "        return self.z\n",
    "\n",
    "    def backward(self, dz):\n",
    "        # 出力部の逆伝搬（シグモイド版）\n",
    "        dy = fn.sigmoid_grad(z) * dz\n",
    "        self.b_grad = dy\n",
    "        self.W_grad = np.dot(self.x.T, dy)\n",
    "        dx = np.dot(dy, W.T)\n",
    "\n",
    "        print(\"dw:\", self.W_grad)\n",
    "        print(\"W:\", W)\n",
    "\n",
    "        # オプティマイザーによりself.W、self.bの値を更新\n",
    "        self.W = self.optimizer.update(self.W, self.W_grad)\n",
    "        self.b = self.optimizer.update(self.b, self.b_grad)\n",
    "\n",
    "        print(\"W:\", W)\n",
    "\n",
    "        return dx\n",
    "\n",
    "    def change_lr(self, New_lr):\n",
    "        self.optimizer.change_lr(New_lr)"
   ]
  },
  {
   "cell_type": "code",
   "execution_count": 131,
   "metadata": {},
   "outputs": [],
   "source": [
    "Loss_layer = Loss()\n"
   ]
  },
  {
   "cell_type": "code",
   "execution_count": 162,
   "metadata": {},
   "outputs": [],
   "source": [
    "t = np.array([[1,2,5]])\n",
    "input_data = np.array([[1,2,3,4]])\n",
    "W = np.random.randn(4, 3)\n",
    "b = np.random.randn(1, 3)\n",
    "lr = 0.01\n",
    "h_layer = BPneuron(W, b, lr)"
   ]
  },
  {
   "cell_type": "code",
   "execution_count": 163,
   "metadata": {},
   "outputs": [],
   "source": [
    "z = h_layer.forward(input_data)"
   ]
  },
  {
   "cell_type": "code",
   "execution_count": 164,
   "metadata": {},
   "outputs": [
    {
     "data": {
      "text/plain": [
       "array([[0.89985286, 0.9998516 , 0.23891448]])"
      ]
     },
     "execution_count": 164,
     "metadata": {},
     "output_type": "execute_result"
    }
   ],
   "source": [
    "z"
   ]
  },
  {
   "cell_type": "code",
   "execution_count": 165,
   "metadata": {},
   "outputs": [],
   "source": [
    "dz = Loss_layer.forward(z,t)"
   ]
  },
  {
   "cell_type": "code",
   "execution_count": 166,
   "metadata": {},
   "outputs": [],
   "source": [
    "dx = h_layer.backward(dz)"
   ]
  },
  {
   "cell_type": "code",
   "execution_count": 167,
   "metadata": {},
   "outputs": [],
   "source": [
    "dz_memo = []\n",
    "for i in range (10):\n",
    "    z = h_layer.forward(input_data)\n",
    "    dz = Loss_layer.forward(z,t)\n",
    "    dz_memo.append(dz)\n",
    "    dx = h_layer.backward(dz)"
   ]
  },
  {
   "cell_type": "code",
   "execution_count": 168,
   "metadata": {},
   "outputs": [
    {
     "data": {
      "text/plain": [
       "[<matplotlib.lines.Line2D at 0x22f61815668>]"
      ]
     },
     "execution_count": 168,
     "metadata": {},
     "output_type": "execute_result"
    },
    {
     "data": {
      "image/png": "[encoded data removed]",
      "text/plain": [
       "<Figure size 432x288 with 1 Axes>"
      ]
     },
     "metadata": {},
     "output_type": "display_data"
    }
   ],
   "source": [
    "plt.plot(dz_memo)"
   ]
  },
  {
   "cell_type": "code",
   "execution_count": null,
   "metadata": {},
   "outputs": [],
   "source": []
  }
 ],
 "metadata": {
  "kernelspec": {
   "display_name": "Python 3",
   "language": "python",
   "name": "python3"
  },
  "language_info": {
   "codemirror_mode": {
    "name": "ipython",
    "version": 3
   },
   "file_extension": ".py",
   "mimetype": "text/x-python",
   "name": "python",
   "nbconvert_exporter": "python",
   "pygments_lexer": "ipython3",
   "version": "3.7.0"
  }
 },
 "nbformat": 4,
 "nbformat_minor": 2
}
